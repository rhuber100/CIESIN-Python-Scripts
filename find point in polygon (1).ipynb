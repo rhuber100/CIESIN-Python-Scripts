{
 "cells": [
  {
   "cell_type": "code",
   "execution_count": 21,
   "id": "d5bcefd5-cee8-48c8-93ce-5ce265ac7e82",
   "metadata": {},
   "outputs": [],
   "source": [
    "import geopandas as gpd\n",
    "import json\n",
    "from shapely.geometry import Point, Polygon"
   ]
  },
  {
   "cell_type": "code",
   "execution_count": 22,
   "id": "228963c7-7c5a-42e8-bc55-ea871f477492",
   "metadata": {},
   "outputs": [
    {
     "data": {
      "text/plain": [
       "dict_keys(['type', 'crs', 'features'])"
      ]
     },
     "execution_count": 22,
     "metadata": {},
     "output_type": "execute_result"
    }
   ],
   "source": [
    "with open('./geoBoundariesCGAZ_ADM1.geojson') as f:\n",
    "    data = json.load(f)\n",
    "data.keys()"
   ]
  },
  {
   "cell_type": "code",
   "execution_count": 23,
   "id": "6e8a78f6-db40-4663-9891-c3a21570932f",
   "metadata": {},
   "outputs": [],
   "source": [
    "df = gpd.GeoDataFrame.from_features(data['features'])"
   ]
  },
  {
   "cell_type": "code",
   "execution_count": 24,
   "id": "3362c711-550e-42cf-8c7d-9462dadb6796",
   "metadata": {},
   "outputs": [
    {
     "data": {
      "text/html": [
       "<div>\n",
       "<style scoped>\n",
       "    .dataframe tbody tr th:only-of-type {\n",
       "        vertical-align: middle;\n",
       "    }\n",
       "\n",
       "    .dataframe tbody tr th {\n",
       "        vertical-align: top;\n",
       "    }\n",
       "\n",
       "    .dataframe thead th {\n",
       "        text-align: right;\n",
       "    }\n",
       "</style>\n",
       "<table border=\"1\" class=\"dataframe\">\n",
       "  <thead>\n",
       "    <tr style=\"text-align: right;\">\n",
       "      <th></th>\n",
       "      <th>geometry</th>\n",
       "      <th>shapeName</th>\n",
       "      <th>shapeID</th>\n",
       "      <th>shapeGroup</th>\n",
       "      <th>shapeType</th>\n",
       "    </tr>\n",
       "  </thead>\n",
       "  <tbody>\n",
       "    <tr>\n",
       "      <th>0</th>\n",
       "      <td>POLYGON ((65.24153 32.28630, 65.12687 32.03679...</td>\n",
       "      <td>Kandahar</td>\n",
       "      <td>12653393B40111500734429</td>\n",
       "      <td>AFG</td>\n",
       "      <td>ADM1</td>\n",
       "    </tr>\n",
       "    <tr>\n",
       "      <th>1</th>\n",
       "      <td>POLYGON ((67.60666 31.44378, 67.70162 31.51373...</td>\n",
       "      <td>Zabul</td>\n",
       "      <td>12653393B56617740339660</td>\n",
       "      <td>AFG</td>\n",
       "      <td>ADM1</td>\n",
       "    </tr>\n",
       "    <tr>\n",
       "      <th>2</th>\n",
       "      <td>POLYGON ((66.27519 32.42550, 66.35907 32.60925...</td>\n",
       "      <td>Uruzgan</td>\n",
       "      <td>12653393B46006342616872</td>\n",
       "      <td>AFG</td>\n",
       "      <td>ADM1</td>\n",
       "    </tr>\n",
       "    <tr>\n",
       "      <th>3</th>\n",
       "      <td>POLYGON ((66.76157 33.25547, 66.92827 33.59694...</td>\n",
       "      <td>Daykundi</td>\n",
       "      <td>12653393B78791504725813</td>\n",
       "      <td>AFG</td>\n",
       "      <td>ADM1</td>\n",
       "    </tr>\n",
       "    <tr>\n",
       "      <th>4</th>\n",
       "      <td>POLYGON ((68.06945 32.04564, 68.06011 32.45619...</td>\n",
       "      <td>Ghanzi</td>\n",
       "      <td>12653393B29313712249365</td>\n",
       "      <td>AFG</td>\n",
       "      <td>ADM1</td>\n",
       "    </tr>\n",
       "  </tbody>\n",
       "</table>\n",
       "</div>"
      ],
      "text/plain": [
       "                                            geometry shapeName  \\\n",
       "0  POLYGON ((65.24153 32.28630, 65.12687 32.03679...  Kandahar   \n",
       "1  POLYGON ((67.60666 31.44378, 67.70162 31.51373...     Zabul   \n",
       "2  POLYGON ((66.27519 32.42550, 66.35907 32.60925...   Uruzgan   \n",
       "3  POLYGON ((66.76157 33.25547, 66.92827 33.59694...  Daykundi   \n",
       "4  POLYGON ((68.06945 32.04564, 68.06011 32.45619...    Ghanzi   \n",
       "\n",
       "                   shapeID shapeGroup shapeType  \n",
       "0  12653393B40111500734429        AFG      ADM1  \n",
       "1  12653393B56617740339660        AFG      ADM1  \n",
       "2  12653393B46006342616872        AFG      ADM1  \n",
       "3  12653393B78791504725813        AFG      ADM1  \n",
       "4  12653393B29313712249365        AFG      ADM1  "
      ]
     },
     "execution_count": 24,
     "metadata": {},
     "output_type": "execute_result"
    }
   ],
   "source": [
    "df.head()"
   ]
  },
  {
   "cell_type": "code",
   "execution_count": 38,
   "id": "c757ad81-7ecb-4ca8-8677-65d4a894abaf",
   "metadata": {},
   "outputs": [],
   "source": [
    "df['test'] = df['geometry'].contains(Poinf))"
   ]
  },
  {
   "cell_type": "code",
   "execution_count": 41,
   "id": "291bff26-676a-4be4-b399-945e302d35bc",
   "metadata": {},
   "outputs": [
    {
     "data": {
      "text/html": [
       "<div>\n",
       "<style scoped>\n",
       "    .dataframe tbody tr th:only-of-type {\n",
       "        vertical-align: middle;\n",
       "    }\n",
       "\n",
       "    .dataframe tbody tr th {\n",
       "        vertical-align: top;\n",
       "    }\n",
       "\n",
       "    .dataframe thead th {\n",
       "        text-align: right;\n",
       "    }\n",
       "</style>\n",
       "<table border=\"1\" class=\"dataframe\">\n",
       "  <thead>\n",
       "    <tr style=\"text-align: right;\">\n",
       "      <th></th>\n",
       "      <th>geometry</th>\n",
       "      <th>shapeName</th>\n",
       "      <th>shapeID</th>\n",
       "      <th>shapeGroup</th>\n",
       "      <th>shapeType</th>\n",
       "      <th>test</th>\n",
       "    </tr>\n",
       "  </thead>\n",
       "  <tbody>\n",
       "    <tr>\n",
       "      <th>404</th>\n",
       "      <td>POLYGON ((-69.94581 -4.22629, -69.94733 -4.227...</td>\n",
       "      <td>Amazonas</td>\n",
       "      <td>14911670B46798344041190</td>\n",
       "      <td>BRA</td>\n",
       "      <td>ADM1</td>\n",
       "      <td>True</td>\n",
       "    </tr>\n",
       "  </tbody>\n",
       "</table>\n",
       "</div>"
      ],
      "text/plain": [
       "                                              geometry shapeName  \\\n",
       "404  POLYGON ((-69.94581 -4.22629, -69.94733 -4.227...  Amazonas   \n",
       "\n",
       "                     shapeID shapeGroup shapeType  test  \n",
       "404  14911670B46798344041190        BRA      ADM1  True  "
      ]
     },
     "execution_count": 41,
     "metadata": {},
     "output_type": "execute_result"
    }
   ],
   "source": [
    "df[df['test'] == True]"
   ]
  },
  {
   "cell_type": "code",
   "execution_count": 42,
   "id": "c52f41c6-ca41-44df-b181-aff8e454101b",
   "metadata": {},
   "outputs": [
    {
     "data": {
      "text/plain": [
       "404    Amazonas\n",
       "Name: shapeName, dtype: object"
      ]
     },
     "execution_count": 42,
     "metadata": {},
     "output_type": "execute_result"
    }
   ],
   "source": [
    "df[df['test'] == True].shapeName"
   ]
  },
  {
   "cell_type": "code",
   "execution_count": 43,
   "id": "6f782598-b87f-4f91-9b15-7f7d28858df6",
   "metadata": {},
   "outputs": [
    {
     "data": {
      "text/plain": [
       "dict_keys(['type', 'crs', 'features'])"
      ]
     },
     "execution_count": 43,
     "metadata": {},
     "output_type": "execute_result"
    }
   ],
   "source": [
    "with open('./geoBoundariesCGAZ_ADM2.geojson') as f:\n",
    "    data = json.load(f)\n",
    "data.keys()"
   ]
  },
  {
   "cell_type": "code",
   "execution_count": 49,
   "id": "416c4f77-46f6-4c36-a2a2-1a56614a3e19",
   "metadata": {},
   "outputs": [],
   "source": [
    "df2 = gpd.GeoDataFrame.from_features(data['features'])"
   ]
  },
  {
   "cell_type": "code",
   "execution_count": 53,
   "id": "479b5505-09c5-4711-9400-cb85f2ee5e3a",
   "metadata": {},
   "outputs": [],
   "source": [
    "df2['test'] = df2['geometry'].contains(Point(-67.5410896,-9.5936351))\n"
   ]
  },
  {
   "cell_type": "code",
   "execution_count": 54,
   "id": "60c2e5f6-4b30-4acc-a1c0-a36f4c776854",
   "metadata": {},
   "outputs": [
    {
     "data": {
      "text/html": [
       "<div>\n",
       "<style scoped>\n",
       "    .dataframe tbody tr th:only-of-type {\n",
       "        vertical-align: middle;\n",
       "    }\n",
       "\n",
       "    .dataframe tbody tr th {\n",
       "        vertical-align: top;\n",
       "    }\n",
       "\n",
       "    .dataframe thead th {\n",
       "        text-align: right;\n",
       "    }\n",
       "</style>\n",
       "<table border=\"1\" class=\"dataframe\">\n",
       "  <thead>\n",
       "    <tr style=\"text-align: right;\">\n",
       "      <th></th>\n",
       "      <th>geometry</th>\n",
       "      <th>shapeName</th>\n",
       "      <th>shapeID</th>\n",
       "      <th>shapeGroup</th>\n",
       "      <th>shapeType</th>\n",
       "      <th>test</th>\n",
       "    </tr>\n",
       "  </thead>\n",
       "  <tbody>\n",
       "    <tr>\n",
       "      <th>7921</th>\n",
       "      <td>POLYGON ((-67.79608 -9.76190, -67.79388 -9.782...</td>\n",
       "      <td>Porto Acre</td>\n",
       "      <td>56859067B95321771565302</td>\n",
       "      <td>BRA</td>\n",
       "      <td>ADM2</td>\n",
       "      <td>True</td>\n",
       "    </tr>\n",
       "  </tbody>\n",
       "</table>\n",
       "</div>"
      ],
      "text/plain": [
       "                                               geometry   shapeName  \\\n",
       "7921  POLYGON ((-67.79608 -9.76190, -67.79388 -9.782...  Porto Acre   \n",
       "\n",
       "                      shapeID shapeGroup shapeType  test  \n",
       "7921  56859067B95321771565302        BRA      ADM2  True  "
      ]
     },
     "execution_count": 54,
     "metadata": {},
     "output_type": "execute_result"
    }
   ],
   "source": [
    "df2[df2['test'] == True]"
   ]
  },
  {
   "cell_type": "code",
   "execution_count": 55,
   "id": "b8065062-6ec6-4219-90d8-346be47ebd8a",
   "metadata": {},
   "outputs": [
    {
     "data": {
      "text/plain": [
       "7921    Porto Acre\n",
       "Name: shapeName, dtype: object"
      ]
     },
     "execution_count": 55,
     "metadata": {},
     "output_type": "execute_result"
    }
   ],
   "source": [
    "df2[df2['test'] == True].shapeName"
   ]
  },
  {
   "cell_type": "code",
   "execution_count": 56,
   "id": "18505848-85f6-4ab5-acd3-97b0b08da36e",
   "metadata": {},
   "outputs": [
    {
     "data": {
      "text/html": [
       "<div>\n",
       "<style scoped>\n",
       "    .dataframe tbody tr th:only-of-type {\n",
       "        vertical-align: middle;\n",
       "    }\n",
       "\n",
       "    .dataframe tbody tr th {\n",
       "        vertical-align: top;\n",
       "    }\n",
       "\n",
       "    .dataframe thead th {\n",
       "        text-align: right;\n",
       "    }\n",
       "</style>\n",
       "<table border=\"1\" class=\"dataframe\">\n",
       "  <thead>\n",
       "    <tr style=\"text-align: right;\">\n",
       "      <th></th>\n",
       "      <th>geometry</th>\n",
       "      <th>shapeName</th>\n",
       "      <th>shapeID</th>\n",
       "      <th>shapeGroup</th>\n",
       "      <th>shapeType</th>\n",
       "      <th>test</th>\n",
       "    </tr>\n",
       "  </thead>\n",
       "  <tbody>\n",
       "    <tr>\n",
       "      <th>0</th>\n",
       "      <td>POLYGON ((70.51142 33.94920, 70.51889 33.95499...</td>\n",
       "      <td>Deh Bala</td>\n",
       "      <td>17698898B67359070524975</td>\n",
       "      <td>AFG</td>\n",
       "      <td>ADM2</td>\n",
       "      <td>False</td>\n",
       "    </tr>\n",
       "    <tr>\n",
       "      <th>1</th>\n",
       "      <td>POLYGON ((62.00760 35.44597, 62.00551 35.44639...</td>\n",
       "      <td>Gulran</td>\n",
       "      <td>17698898B98443198567384</td>\n",
       "      <td>AFG</td>\n",
       "      <td>ADM2</td>\n",
       "      <td>False</td>\n",
       "    </tr>\n",
       "    <tr>\n",
       "      <th>2</th>\n",
       "      <td>POLYGON ((61.99554 34.74465, 62.01760 34.73953...</td>\n",
       "      <td>Koshk</td>\n",
       "      <td>17698898B82675281335003</td>\n",
       "      <td>AFG</td>\n",
       "      <td>ADM2</td>\n",
       "      <td>False</td>\n",
       "    </tr>\n",
       "    <tr>\n",
       "      <th>3</th>\n",
       "      <td>POLYGON ((70.41933 34.23071, 70.42355 34.27594...</td>\n",
       "      <td>Chaparhar</td>\n",
       "      <td>17698898B74585757664988</td>\n",
       "      <td>AFG</td>\n",
       "      <td>ADM2</td>\n",
       "      <td>False</td>\n",
       "    </tr>\n",
       "    <tr>\n",
       "      <th>4</th>\n",
       "      <td>POLYGON ((62.41693 34.67412, 62.50038 34.67112...</td>\n",
       "      <td>Koshki Kohna</td>\n",
       "      <td>17698898B84066352785355</td>\n",
       "      <td>AFG</td>\n",
       "      <td>ADM2</td>\n",
       "      <td>False</td>\n",
       "    </tr>\n",
       "  </tbody>\n",
       "</table>\n",
       "</div>"
      ],
      "text/plain": [
       "                                            geometry     shapeName  \\\n",
       "0  POLYGON ((70.51142 33.94920, 70.51889 33.95499...      Deh Bala   \n",
       "1  POLYGON ((62.00760 35.44597, 62.00551 35.44639...        Gulran   \n",
       "2  POLYGON ((61.99554 34.74465, 62.01760 34.73953...         Koshk   \n",
       "3  POLYGON ((70.41933 34.23071, 70.42355 34.27594...     Chaparhar   \n",
       "4  POLYGON ((62.41693 34.67412, 62.50038 34.67112...  Koshki Kohna   \n",
       "\n",
       "                   shapeID shapeGroup shapeType   test  \n",
       "0  17698898B67359070524975        AFG      ADM2  False  \n",
       "1  17698898B98443198567384        AFG      ADM2  False  \n",
       "2  17698898B82675281335003        AFG      ADM2  False  \n",
       "3  17698898B74585757664988        AFG      ADM2  False  \n",
       "4  17698898B84066352785355        AFG      ADM2  False  "
      ]
     },
     "execution_count": 56,
     "metadata": {},
     "output_type": "execute_result"
    }
   ],
   "source": [
    "df2.head()"
   ]
  },
  {
   "cell_type": "code",
   "execution_count": 58,
   "id": "b673b49e-8e62-46e8-8c8f-9d6169d80a55",
   "metadata": {},
   "outputs": [
    {
     "data": {
      "text/html": [
       "<div>\n",
       "<style scoped>\n",
       "    .dataframe tbody tr th:only-of-type {\n",
       "        vertical-align: middle;\n",
       "    }\n",
       "\n",
       "    .dataframe tbody tr th {\n",
       "        vertical-align: top;\n",
       "    }\n",
       "\n",
       "    .dataframe thead th {\n",
       "        text-align: right;\n",
       "    }\n",
       "</style>\n",
       "<table border=\"1\" class=\"dataframe\">\n",
       "  <thead>\n",
       "    <tr style=\"text-align: right;\">\n",
       "      <th></th>\n",
       "      <th>geometry</th>\n",
       "      <th>shapeName</th>\n",
       "      <th>shapeID</th>\n",
       "      <th>shapeGroup</th>\n",
       "      <th>shapeType</th>\n",
       "      <th>test</th>\n",
       "    </tr>\n",
       "  </thead>\n",
       "  <tbody>\n",
       "    <tr>\n",
       "      <th>7921</th>\n",
       "      <td>POLYGON ((-67.79608 -9.76190, -67.79388 -9.782...</td>\n",
       "      <td>Porto Acre</td>\n",
       "      <td>56859067B95321771565302</td>\n",
       "      <td>BRA</td>\n",
       "      <td>ADM2</td>\n",
       "      <td>True</td>\n",
       "    </tr>\n",
       "  </tbody>\n",
       "</table>\n",
       "</div>"
      ],
      "text/plain": [
       "                                               geometry   shapeName  \\\n",
       "7921  POLYGON ((-67.79608 -9.76190, -67.79388 -9.782...  Porto Acre   \n",
       "\n",
       "                      shapeID shapeGroup shapeType  test  \n",
       "7921  56859067B95321771565302        BRA      ADM2  True  "
      ]
     },
     "execution_count": 58,
     "metadata": {},
     "output_type": "execute_result"
    }
   ],
   "source": [
    "df2[df2['test'] == True]"
   ]
  },
  {
   "cell_type": "code",
   "execution_count": null,
   "id": "f426a478-9411-4152-a774-aa4eeac7c2ee",
   "metadata": {},
   "outputs": [],
   "source": []
  }
 ],
 "metadata": {
  "kernelspec": {
   "display_name": "Python 3 (ipykernel)",
   "language": "python",
   "name": "python3"
  },
  "language_info": {
   "codemirror_mode": {
    "name": "ipython",
    "version": 3
   },
   "file_extension": ".py",
   "mimetype": "text/x-python",
   "name": "python",
   "nbconvert_exporter": "python",
   "pygments_lexer": "ipython3",
   "version": "3.10.12"
  }
 },
 "nbformat": 4,
 "nbformat_minor": 5
}
